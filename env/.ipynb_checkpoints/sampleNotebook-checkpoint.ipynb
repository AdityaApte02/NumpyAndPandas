{
 "cells": [
  {
   "cell_type": "markdown",
   "id": "emotional-fault",
   "metadata": {},
   "source": [
    "print(\"Hey!!\")"
   ]
  },
  {
   "cell_type": "code",
   "execution_count": 5,
   "id": "handed-radical",
   "metadata": {},
   "outputs": [
    {
     "data": {
      "text/plain": [
       "8789"
      ]
     },
     "execution_count": 5,
     "metadata": {},
     "output_type": "execute_result"
    }
   ],
   "source": [
    "35+8754"
   ]
  },
  {
   "cell_type": "code",
   "execution_count": 6,
   "id": "delayed-cassette",
   "metadata": {},
   "outputs": [
    {
     "data": {
      "text/plain": [
       "'Aditya Apte'"
      ]
     },
     "execution_count": 6,
     "metadata": {},
     "output_type": "execute_result"
    }
   ],
   "source": [
    "' '.join(['Aditya', 'Apte'])"
   ]
  },
  {
   "cell_type": "markdown",
   "id": "young-lithuania",
   "metadata": {},
   "source": [
    "ADITYA APTE HERE"
   ]
  },
  {
   "cell_type": "markdown",
   "id": "soviet-islam",
   "metadata": {},
   "source": []
  }
 ],
 "metadata": {
  "kernelspec": {
   "display_name": "Python 3",
   "language": "python",
   "name": "python3"
  },
  "language_info": {
   "codemirror_mode": {
    "name": "ipython",
    "version": 3
   },
   "file_extension": ".py",
   "mimetype": "text/x-python",
   "name": "python",
   "nbconvert_exporter": "python",
   "pygments_lexer": "ipython3",
   "version": "3.8.5"
  }
 },
 "nbformat": 4,
 "nbformat_minor": 5
}
